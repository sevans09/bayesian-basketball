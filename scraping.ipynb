{
 "cells": [
  {
   "cell_type": "code",
   "execution_count": 12,
   "metadata": {
    "ExecuteTime": {
     "end_time": "2021-02-07T08:14:35.460620Z",
     "start_time": "2021-02-07T08:14:35.456413Z"
    }
   },
   "outputs": [],
   "source": [
    "from lxml import html\n",
    "import requests, re, math\n",
    "from bs4 import BeautifulSoup\n",
    "import pandas as pd\n",
    "import numpy as np\n",
    "import os\n",
    "import glob\n",
    "import matplotlib.pyplot as plt"
   ]
  },
  {
   "cell_type": "code",
   "execution_count": 13,
   "metadata": {
    "ExecuteTime": {
     "end_time": "2021-02-07T08:14:35.649814Z",
     "start_time": "2021-02-07T08:14:35.642894Z"
    }
   },
   "outputs": [],
   "source": [
    "def parse_files_for_teams(fpath_3, fpath_w):\n",
    "    d = dict()\n",
    "    with open(fpath_3, \"r\") as file_3, open(fpath_w, \"r\") as file_w:\n",
    "        pcts = [s.strip(\"\\n\") for s in list(file_3.readlines())]\n",
    "        wins = [s.strip(\"\\n\") for s in list(file_w.readlines())]\n",
    "        for i in range(len(pcts)):\n",
    "            p = pcts[i]\n",
    "            idx = p.find(\".\")\n",
    "            team = p[:idx-1]\n",
    "            three = float(p[idx:])\n",
    "            w = wins[i]\n",
    "            idx = w.find(\".\")\n",
    "            team = w[:idx-1]\n",
    "            win = float(w[idx:])\n",
    "            d[team] = {'3pt_pct': three, 'win_pct': win}\n",
    "        return d\n",
    "        \n",
    "team_info = parse_files_for_teams(\"teams_3pts.txt\", \"teams_win_pcts.txt\")"
   ]
  },
  {
   "cell_type": "code",
   "execution_count": 14,
   "metadata": {
    "ExecuteTime": {
     "end_time": "2021-02-07T08:14:36.201858Z",
     "start_time": "2021-02-07T08:14:36.197005Z"
    }
   },
   "outputs": [],
   "source": [
    "def get_three_rate(D):\n",
    "    for key1 in D.keys():\n",
    "        s = []\n",
    "        for key2 in D.keys():\n",
    "            if not key1 == key2:\n",
    "                s.append(D[key1]['3pt_pct'] / (D[key1]['3pt_pct'] + D[key2]['3pt_pct']))\n",
    "        team_info[key1]['marginal'] = np.mean(s)\n",
    "    return team_info\n",
    "        \n",
    "team_info = get_three_rate(team_info)"
   ]
  },
  {
   "cell_type": "code",
   "execution_count": 15,
   "metadata": {
    "ExecuteTime": {
     "end_time": "2021-02-07T08:14:36.677982Z",
     "start_time": "2021-02-07T08:14:36.669062Z"
    }
   },
   "outputs": [],
   "source": [
    "def get_scores_and_pbp(team, page):\n",
    "    result = requests.get(page)\n",
    "    tree = html.fromstring(result.content)\n",
    "    tree = html.tostring(tree)\n",
    "    soup = BeautifulSoup(tree, 'lxml')\n",
    "    table = soup.find_all('table')[0]\n",
    "    df = pd.read_html(table.prettify())[0]\n",
    "    score = df.iloc[len(df)-2, 3]\n",
    "    a_score, b_score = score.split('-')\n",
    "    a_score = int(a_score)\n",
    "    b_score = int(b_score)\n",
    "    df = df.iloc[:, [1, 5]]\n",
    "    cols = df.columns\n",
    "    end = df.index[df[cols[0]] == \"3rd Q\"].tolist()[0]\n",
    "    df = df.iloc[:end, :]\n",
    "    df = df[~df[cols[0]].isin(['1st Q', '2nd Q', '3rd Q', '4th Q'])]\n",
    "    df = df.iloc[1:, ]\n",
    "    t = soup.title.string\n",
    "    visitor = t[:(t.find(\"at\")-1)].strip()\n",
    "    home = t[(t.find(\"at\")+2):(t.find(\"Play\")-1)].strip()\n",
    "    df.columns = [visitor, home]\n",
    "    won = True if (team == home and b_score > a_score) or (team == visitor and a_score > b_score) else False\n",
    "    return won, df"
   ]
  },
  {
   "cell_type": "code",
   "execution_count": 16,
   "metadata": {
    "ExecuteTime": {
     "end_time": "2021-02-07T08:14:37.201425Z",
     "start_time": "2021-02-07T08:14:37.195691Z"
    }
   },
   "outputs": [],
   "source": [
    "def get_merged_plays(df):\n",
    "    merged_plays = []\n",
    "    for index, row in df.iterrows():\n",
    "        for col in df.columns:\n",
    "            if not pd.isnull(row[col]):\n",
    "                merged_plays.append((col, row[col]))\n",
    "    return merged_plays"
   ]
  },
  {
   "cell_type": "code",
   "execution_count": 17,
   "metadata": {
    "ExecuteTime": {
     "end_time": "2021-02-07T08:14:37.603620Z",
     "start_time": "2021-02-07T08:14:37.596187Z"
    }
   },
   "outputs": [],
   "source": [
    "def get_threes(cols, plays):\n",
    "    threes = {cols[0]: 0, cols[1]: 0}\n",
    "    for idx, event in enumerate(plays):\n",
    "        if re.match(r'^(?=.*?\\bmakes 3-pt\\b).*$', event[1]):\n",
    "            threes[event[0]] += 1\n",
    "    return threes"
   ]
  },
  {
   "cell_type": "code",
   "execution_count": 18,
   "metadata": {
    "ExecuteTime": {
     "end_time": "2021-02-07T08:29:59.954159Z",
     "start_time": "2021-02-07T08:14:38.087578Z"
    }
   },
   "outputs": [
    {
     "name": "stdout",
     "output_type": "stream",
     "text": [
      "Sacramento Kings\n",
      "Utah Jazz\n",
      "aight bet\n",
      "\n",
      "Orlando Magic\n",
      "aight bet\n",
      "\n",
      "Charlotte Hornets\n",
      "Denver Nuggets\n",
      "Los Angeles Lakers\n",
      "Phoenix Suns\n",
      "Atlanta Hawks\n",
      "Detroit Pistons\n",
      "Golden State Warriors\n",
      "aight bet\n",
      "\n",
      "San Antonio Spurs\n",
      "aight bet\n",
      "\n",
      "Dallas Mavericks\n",
      "aight bet\n",
      "\n",
      "Cleveland Cavaliers\n",
      "aight bet\n",
      "\n",
      "Portland Trail Blazers\n",
      "aight bet\n",
      "\n",
      "New York Knicks\n",
      "Houston Rockets\n",
      "Memphis Grizzlies\n",
      "New Orleans Pelicans\n",
      "Indiana Pacers\n",
      "Boston Celtics\n",
      "Oklahoma City Thunder\n",
      "Chicago Bulls\n",
      "aight bet\n",
      "\n",
      "Toronto Raptors\n",
      "Milwaukee Bucks\n",
      "Miami Heat\n",
      "Washington Wizards\n",
      "Los Angeles Clippers\n",
      "Brooklyn Nets\n",
      "Minnesota Timberwolves\n",
      "Philadelphia 76ers\n"
     ]
    }
   ],
   "source": [
    "def get_three_tally_by_team(team_info):\n",
    "    folder_path = './box_links'\n",
    "    for filename in glob.glob(os.path.join(folder_path, '*box_links.txt')):\n",
    "        with open(filename, 'r') as f:\n",
    "            tally = [0, 0]\n",
    "            pages = [s.strip() for s in list(f.readlines())]\n",
    "            team = pages[0]\n",
    "            print(team)\n",
    "            pages = pages[1:]\n",
    "            for idx, page in enumerate(pages):\n",
    "                if page.find(\"2021\") != -1:\n",
    "                    continue\n",
    "                str_idx = page.find(\"boxscores/\") + 10\n",
    "                page = page[:str_idx] + \"pbp/\" + page[str_idx:]\n",
    "                try:\n",
    "                    won, df = get_scores_and_pbp(team, page)\n",
    "                    if not won:\n",
    "                        continue\n",
    "                    plays = get_merged_plays(df)\n",
    "                    threes = get_threes(df.columns, plays)\n",
    "                    try:\n",
    "                        for t in df.columns:\n",
    "                            if t != team:\n",
    "                                opponent = t\n",
    "                        if (threes[team] >= threes[opponent]):\n",
    "                            tally[0] += 1\n",
    "                        else:\n",
    "                            tally[1] += 1\n",
    "                    except:\n",
    "                        print(\"uh oh\")\n",
    "                except:\n",
    "                    print(\"aight bet\")\n",
    "                    print()\n",
    "            team_info[team]['tally'] = tally\n",
    "    return team_info\n",
    "\n",
    "team_info = get_three_tally_by_team(team_info)"
   ]
  },
  {
   "cell_type": "code",
   "execution_count": 19,
   "metadata": {
    "ExecuteTime": {
     "end_time": "2021-02-07T08:30:00.148793Z",
     "start_time": "2021-02-07T08:30:00.138948Z"
    }
   },
   "outputs": [
    {
     "name": "stdout",
     "output_type": "stream",
     "text": [
      "{'Atlanta Hawks': {'3pt_pct': 0.333, 'win_pct': 0.299, 'marginal': 0.4816573344276474, 'tally': [13, 5], 'posterior': 0.4483362527865393}, 'Philadelphia 76ers': {'3pt_pct': 0.368, 'win_pct': 0.589, 'marginal': 0.5074859678598344, 'tally': [27, 14], 'posterior': 0.7643128546317132}, 'Brooklyn Nets': {'3pt_pct': 0.343, 'win_pct': 0.486, 'marginal': 0.48930031867297846, 'tally': [27, 6], 'posterior': 0.8126632018445956}, 'Boston Celtics': {'3pt_pct': 0.364, 'win_pct': 0.667, 'marginal': 0.5046609541614179, 'tally': [39, 16], 'posterior': 0.9371908653990241}, 'New York Knicks': {'3pt_pct': 0.337, 'win_pct': 0.318, 'marginal': 0.48474094115991667, 'tally': [8, 12], 'posterior': 0.2624082044640759}, 'Toronto Raptors': {'3pt_pct': 0.374, 'win_pct': 0.736, 'marginal': 0.5116655599774443, 'tally': [33, 27], 'posterior': 0.7911417763154603}, 'Utah Jazz': {'3pt_pct': 0.38, 'win_pct': 0.611, 'marginal': 0.5157771466002886, 'tally': [34, 10], 'posterior': 0.9153882965703689}, 'Denver Nuggets': {'3pt_pct': 0.359, 'win_pct': 0.63, 'marginal': 0.5010853308310814, 'tally': [26, 28], 'posterior': 0.605352650875323}, 'Portland Trail Blazers': {'3pt_pct': 0.377, 'win_pct': 0.473, 'marginal': 0.5137297497795384, 'tally': [18, 15], 'posterior': 0.5022095763593949}, 'Oklahoma City Thunder': {'3pt_pct': 0.355, 'win_pct': 0.611, 'marginal': 0.4981886995121137, 'tally': [19, 25], 'posterior': 0.5296003489225947}, 'Minnesota Timberwolves': {'3pt_pct': 0.336, 'win_pct': 0.297, 'marginal': 0.48397337444657634, 'tally': [13, 3], 'posterior': 0.49860697455917047}, 'Milwaukee Bucks': {'3pt_pct': 0.355, 'win_pct': 0.767, 'marginal': 0.4981886995121137, 'tally': [40, 20], 'posterior': 1.0263848494237071}, 'Indiana Pacers': {'3pt_pct': 0.363, 'win_pct': 0.616, 'marginal': 0.5039497996407838, 'tally': [30, 14], 'posterior': 0.833416344841047}, 'Cleveland Cavaliers': {'3pt_pct': 0.351, 'win_pct': 0.292, 'marginal': 0.4952593607297342, 'tally': [9, 9], 'posterior': 0.2947950338280895}, 'Chicago Bulls': {'3pt_pct': 0.348, 'win_pct': 0.338, 'marginal': 0.4930405575706256, 'tally': [15, 7], 'posterior': 0.4674149862844376}, 'Detroit Pistons': {'3pt_pct': 0.367, 'win_pct': 0.303, 'marginal': 0.5067826388514551, 'tally': [16, 4], 'posterior': 0.47831157071473934}, 'Los Angeles Lakers': {'3pt_pct': 0.349, 'win_pct': 0.732, 'marginal': 0.49378225236433554, 'tally': [34, 30], 'posterior': 0.7875434933879922}, 'Los Angeles Clippers': {'3pt_pct': 0.371, 'win_pct': 0.681, 'marginal': 0.509584369660437, 'tally': [37, 17], 'posterior': 0.9156699830138803}, 'Phoenix Suns': {'3pt_pct': 0.358, 'win_pct': 0.466, 'marginal': 0.5003642093154338, 'tally': [20, 13], 'posterior': 0.5644373381754006}, 'Golden State Warriors': {'3pt_pct': 0.334, 'win_pct': 0.231, 'marginal': 0.48243158073037345, 'tally': [4, 4], 'posterior': 0.23941218737202008}, 'Sacramento Kings': {'3pt_pct': 0.364, 'win_pct': 0.431, 'marginal': 0.5046609541614179, 'tally': [22, 7], 'posterior': 0.6478914497847164}, 'Charlotte Hornets': {'3pt_pct': 0.352, 'win_pct': 0.354, 'marginal': 0.4959947920146112, 'tally': [11, 11], 'posterior': 0.356858585714315}, 'Orlando Magic': {'3pt_pct': 0.343, 'win_pct': 0.452, 'marginal': 0.48930031867297846, 'tally': [19, 12], 'posterior': 0.5661804161825394}, 'Miami Heat': {'3pt_pct': 0.379, 'win_pct': 0.603, 'marginal': 0.5150965342087228, 'tally': [20, 14], 'posterior': 0.688620207662299}, 'Washington Wizards': {'3pt_pct': 0.368, 'win_pct': 0.347, 'marginal': 0.5074859678598344, 'tally': [15, 9], 'posterior': 0.42735171755507534}, 'San Antonio Spurs': {'3pt_pct': 0.376, 'win_pct': 0.451, 'marginal': 0.5130435625776514, 'tally': [16, 14], 'posterior': 0.4688360811406294}, 'Memphis Grizzlies': {'3pt_pct': 0.347, 'win_pct': 0.466, 'marginal': 0.4922967571435735, 'tally': [17, 15], 'posterior': 0.5028724979551324}, 'Houston Rockets': {'3pt_pct': 0.345, 'win_pct': 0.611, 'marginal': 0.4908028034064681, 'tally': [38, 9], 'posterior': 1.0065142182794014}, 'New Orleans Pelicans': {'3pt_pct': 0.37, 'win_pct': 0.417, 'marginal': 0.5088868252991576, 'tally': [22, 6], 'posterior': 0.6438422864460026}, 'Dallas Mavericks': {'3pt_pct': 0.367, 'win_pct': 0.573, 'marginal': 0.5067826388514551, 'tally': [37, 6], 'posterior': 0.9728954266178513}}\n"
     ]
    }
   ],
   "source": [
    "def bayes(team_info):\n",
    "    # EXAMPLE: print(((tally[0] / sum(tally)) * jazz_win_rate)/0.54)\n",
    "    for key in team_info.keys():\n",
    "        try:\n",
    "            likelihood = (team_info[key]['tally'][0] / sum(team_info[key]['tally']))\n",
    "            prior = team_info[key]['win_pct']\n",
    "            marginal = team_info[key]['marginal']\n",
    "            posterior = (likelihood * prior) / marginal\n",
    "            team_info[key]['posterior'] = posterior\n",
    "        except:\n",
    "            print(key)\n",
    "    return team_info\n",
    "\n",
    "team_info = bayes(team_info)\n",
    "print(team_info)"
   ]
  },
  {
   "cell_type": "code",
   "execution_count": 23,
   "metadata": {
    "ExecuteTime": {
     "end_time": "2021-02-07T16:51:30.052767Z",
     "start_time": "2021-02-07T16:51:30.003969Z"
    }
   },
   "outputs": [
    {
     "data": {
      "text/html": [
       "<div>\n",
       "<style scoped>\n",
       "    .dataframe tbody tr th:only-of-type {\n",
       "        vertical-align: middle;\n",
       "    }\n",
       "\n",
       "    .dataframe tbody tr th {\n",
       "        vertical-align: top;\n",
       "    }\n",
       "\n",
       "    .dataframe thead th {\n",
       "        text-align: right;\n",
       "    }\n",
       "</style>\n",
       "<table border=\"1\" class=\"dataframe\">\n",
       "  <thead>\n",
       "    <tr style=\"text-align: right;\">\n",
       "      <th></th>\n",
       "      <th>3pt_pct</th>\n",
       "      <th>win_pct</th>\n",
       "      <th>marginal</th>\n",
       "      <th>tally</th>\n",
       "      <th>posterior</th>\n",
       "    </tr>\n",
       "  </thead>\n",
       "  <tbody>\n",
       "    <tr>\n",
       "      <th>Atlanta Hawks</th>\n",
       "      <td>0.333</td>\n",
       "      <td>0.299</td>\n",
       "      <td>0.481657</td>\n",
       "      <td>[13, 5]</td>\n",
       "      <td>0.448336</td>\n",
       "    </tr>\n",
       "    <tr>\n",
       "      <th>Boston Celtics</th>\n",
       "      <td>0.364</td>\n",
       "      <td>0.667</td>\n",
       "      <td>0.504661</td>\n",
       "      <td>[39, 16]</td>\n",
       "      <td>0.937191</td>\n",
       "    </tr>\n",
       "    <tr>\n",
       "      <th>Brooklyn Nets</th>\n",
       "      <td>0.343</td>\n",
       "      <td>0.486</td>\n",
       "      <td>0.489300</td>\n",
       "      <td>[27, 6]</td>\n",
       "      <td>0.812663</td>\n",
       "    </tr>\n",
       "    <tr>\n",
       "      <th>Charlotte Hornets</th>\n",
       "      <td>0.352</td>\n",
       "      <td>0.354</td>\n",
       "      <td>0.495995</td>\n",
       "      <td>[11, 11]</td>\n",
       "      <td>0.356859</td>\n",
       "    </tr>\n",
       "    <tr>\n",
       "      <th>Chicago Bulls</th>\n",
       "      <td>0.348</td>\n",
       "      <td>0.338</td>\n",
       "      <td>0.493041</td>\n",
       "      <td>[15, 7]</td>\n",
       "      <td>0.467415</td>\n",
       "    </tr>\n",
       "    <tr>\n",
       "      <th>Cleveland Cavaliers</th>\n",
       "      <td>0.351</td>\n",
       "      <td>0.292</td>\n",
       "      <td>0.495259</td>\n",
       "      <td>[9, 9]</td>\n",
       "      <td>0.294795</td>\n",
       "    </tr>\n",
       "    <tr>\n",
       "      <th>Dallas Mavericks</th>\n",
       "      <td>0.367</td>\n",
       "      <td>0.573</td>\n",
       "      <td>0.506783</td>\n",
       "      <td>[37, 6]</td>\n",
       "      <td>0.972895</td>\n",
       "    </tr>\n",
       "    <tr>\n",
       "      <th>Denver Nuggets</th>\n",
       "      <td>0.359</td>\n",
       "      <td>0.630</td>\n",
       "      <td>0.501085</td>\n",
       "      <td>[26, 28]</td>\n",
       "      <td>0.605353</td>\n",
       "    </tr>\n",
       "    <tr>\n",
       "      <th>Detroit Pistons</th>\n",
       "      <td>0.367</td>\n",
       "      <td>0.303</td>\n",
       "      <td>0.506783</td>\n",
       "      <td>[16, 4]</td>\n",
       "      <td>0.478312</td>\n",
       "    </tr>\n",
       "    <tr>\n",
       "      <th>Golden State Warriors</th>\n",
       "      <td>0.334</td>\n",
       "      <td>0.231</td>\n",
       "      <td>0.482432</td>\n",
       "      <td>[4, 4]</td>\n",
       "      <td>0.239412</td>\n",
       "    </tr>\n",
       "    <tr>\n",
       "      <th>Houston Rockets</th>\n",
       "      <td>0.345</td>\n",
       "      <td>0.611</td>\n",
       "      <td>0.490803</td>\n",
       "      <td>[38, 9]</td>\n",
       "      <td>1.006514</td>\n",
       "    </tr>\n",
       "    <tr>\n",
       "      <th>Indiana Pacers</th>\n",
       "      <td>0.363</td>\n",
       "      <td>0.616</td>\n",
       "      <td>0.503950</td>\n",
       "      <td>[30, 14]</td>\n",
       "      <td>0.833416</td>\n",
       "    </tr>\n",
       "    <tr>\n",
       "      <th>Los Angeles Clippers</th>\n",
       "      <td>0.371</td>\n",
       "      <td>0.681</td>\n",
       "      <td>0.509584</td>\n",
       "      <td>[37, 17]</td>\n",
       "      <td>0.915670</td>\n",
       "    </tr>\n",
       "    <tr>\n",
       "      <th>Los Angeles Lakers</th>\n",
       "      <td>0.349</td>\n",
       "      <td>0.732</td>\n",
       "      <td>0.493782</td>\n",
       "      <td>[34, 30]</td>\n",
       "      <td>0.787543</td>\n",
       "    </tr>\n",
       "    <tr>\n",
       "      <th>Memphis Grizzlies</th>\n",
       "      <td>0.347</td>\n",
       "      <td>0.466</td>\n",
       "      <td>0.492297</td>\n",
       "      <td>[17, 15]</td>\n",
       "      <td>0.502872</td>\n",
       "    </tr>\n",
       "    <tr>\n",
       "      <th>Miami Heat</th>\n",
       "      <td>0.379</td>\n",
       "      <td>0.603</td>\n",
       "      <td>0.515097</td>\n",
       "      <td>[20, 14]</td>\n",
       "      <td>0.688620</td>\n",
       "    </tr>\n",
       "    <tr>\n",
       "      <th>Milwaukee Bucks</th>\n",
       "      <td>0.355</td>\n",
       "      <td>0.767</td>\n",
       "      <td>0.498189</td>\n",
       "      <td>[40, 20]</td>\n",
       "      <td>1.026385</td>\n",
       "    </tr>\n",
       "    <tr>\n",
       "      <th>Minnesota Timberwolves</th>\n",
       "      <td>0.336</td>\n",
       "      <td>0.297</td>\n",
       "      <td>0.483973</td>\n",
       "      <td>[13, 3]</td>\n",
       "      <td>0.498607</td>\n",
       "    </tr>\n",
       "    <tr>\n",
       "      <th>New Orleans Pelicans</th>\n",
       "      <td>0.370</td>\n",
       "      <td>0.417</td>\n",
       "      <td>0.508887</td>\n",
       "      <td>[22, 6]</td>\n",
       "      <td>0.643842</td>\n",
       "    </tr>\n",
       "    <tr>\n",
       "      <th>New York Knicks</th>\n",
       "      <td>0.337</td>\n",
       "      <td>0.318</td>\n",
       "      <td>0.484741</td>\n",
       "      <td>[8, 12]</td>\n",
       "      <td>0.262408</td>\n",
       "    </tr>\n",
       "    <tr>\n",
       "      <th>Oklahoma City Thunder</th>\n",
       "      <td>0.355</td>\n",
       "      <td>0.611</td>\n",
       "      <td>0.498189</td>\n",
       "      <td>[19, 25]</td>\n",
       "      <td>0.529600</td>\n",
       "    </tr>\n",
       "    <tr>\n",
       "      <th>Orlando Magic</th>\n",
       "      <td>0.343</td>\n",
       "      <td>0.452</td>\n",
       "      <td>0.489300</td>\n",
       "      <td>[19, 12]</td>\n",
       "      <td>0.566180</td>\n",
       "    </tr>\n",
       "    <tr>\n",
       "      <th>Philadelphia 76ers</th>\n",
       "      <td>0.368</td>\n",
       "      <td>0.589</td>\n",
       "      <td>0.507486</td>\n",
       "      <td>[27, 14]</td>\n",
       "      <td>0.764313</td>\n",
       "    </tr>\n",
       "    <tr>\n",
       "      <th>Phoenix Suns</th>\n",
       "      <td>0.358</td>\n",
       "      <td>0.466</td>\n",
       "      <td>0.500364</td>\n",
       "      <td>[20, 13]</td>\n",
       "      <td>0.564437</td>\n",
       "    </tr>\n",
       "    <tr>\n",
       "      <th>Portland Trail Blazers</th>\n",
       "      <td>0.377</td>\n",
       "      <td>0.473</td>\n",
       "      <td>0.513730</td>\n",
       "      <td>[18, 15]</td>\n",
       "      <td>0.502210</td>\n",
       "    </tr>\n",
       "    <tr>\n",
       "      <th>Sacramento Kings</th>\n",
       "      <td>0.364</td>\n",
       "      <td>0.431</td>\n",
       "      <td>0.504661</td>\n",
       "      <td>[22, 7]</td>\n",
       "      <td>0.647891</td>\n",
       "    </tr>\n",
       "    <tr>\n",
       "      <th>San Antonio Spurs</th>\n",
       "      <td>0.376</td>\n",
       "      <td>0.451</td>\n",
       "      <td>0.513044</td>\n",
       "      <td>[16, 14]</td>\n",
       "      <td>0.468836</td>\n",
       "    </tr>\n",
       "    <tr>\n",
       "      <th>Toronto Raptors</th>\n",
       "      <td>0.374</td>\n",
       "      <td>0.736</td>\n",
       "      <td>0.511666</td>\n",
       "      <td>[33, 27]</td>\n",
       "      <td>0.791142</td>\n",
       "    </tr>\n",
       "    <tr>\n",
       "      <th>Utah Jazz</th>\n",
       "      <td>0.380</td>\n",
       "      <td>0.611</td>\n",
       "      <td>0.515777</td>\n",
       "      <td>[34, 10]</td>\n",
       "      <td>0.915388</td>\n",
       "    </tr>\n",
       "    <tr>\n",
       "      <th>Washington Wizards</th>\n",
       "      <td>0.368</td>\n",
       "      <td>0.347</td>\n",
       "      <td>0.507486</td>\n",
       "      <td>[15, 9]</td>\n",
       "      <td>0.427352</td>\n",
       "    </tr>\n",
       "  </tbody>\n",
       "</table>\n",
       "</div>"
      ],
      "text/plain": [
       "                        3pt_pct  win_pct  marginal     tally  posterior\n",
       "Atlanta Hawks             0.333    0.299  0.481657   [13, 5]   0.448336\n",
       "Boston Celtics            0.364    0.667  0.504661  [39, 16]   0.937191\n",
       "Brooklyn Nets             0.343    0.486  0.489300   [27, 6]   0.812663\n",
       "Charlotte Hornets         0.352    0.354  0.495995  [11, 11]   0.356859\n",
       "Chicago Bulls             0.348    0.338  0.493041   [15, 7]   0.467415\n",
       "Cleveland Cavaliers       0.351    0.292  0.495259    [9, 9]   0.294795\n",
       "Dallas Mavericks          0.367    0.573  0.506783   [37, 6]   0.972895\n",
       "Denver Nuggets            0.359    0.630  0.501085  [26, 28]   0.605353\n",
       "Detroit Pistons           0.367    0.303  0.506783   [16, 4]   0.478312\n",
       "Golden State Warriors     0.334    0.231  0.482432    [4, 4]   0.239412\n",
       "Houston Rockets           0.345    0.611  0.490803   [38, 9]   1.006514\n",
       "Indiana Pacers            0.363    0.616  0.503950  [30, 14]   0.833416\n",
       "Los Angeles Clippers      0.371    0.681  0.509584  [37, 17]   0.915670\n",
       "Los Angeles Lakers        0.349    0.732  0.493782  [34, 30]   0.787543\n",
       "Memphis Grizzlies         0.347    0.466  0.492297  [17, 15]   0.502872\n",
       "Miami Heat                0.379    0.603  0.515097  [20, 14]   0.688620\n",
       "Milwaukee Bucks           0.355    0.767  0.498189  [40, 20]   1.026385\n",
       "Minnesota Timberwolves    0.336    0.297  0.483973   [13, 3]   0.498607\n",
       "New Orleans Pelicans      0.370    0.417  0.508887   [22, 6]   0.643842\n",
       "New York Knicks           0.337    0.318  0.484741   [8, 12]   0.262408\n",
       "Oklahoma City Thunder     0.355    0.611  0.498189  [19, 25]   0.529600\n",
       "Orlando Magic             0.343    0.452  0.489300  [19, 12]   0.566180\n",
       "Philadelphia 76ers        0.368    0.589  0.507486  [27, 14]   0.764313\n",
       "Phoenix Suns              0.358    0.466  0.500364  [20, 13]   0.564437\n",
       "Portland Trail Blazers    0.377    0.473  0.513730  [18, 15]   0.502210\n",
       "Sacramento Kings          0.364    0.431  0.504661   [22, 7]   0.647891\n",
       "San Antonio Spurs         0.376    0.451  0.513044  [16, 14]   0.468836\n",
       "Toronto Raptors           0.374    0.736  0.511666  [33, 27]   0.791142\n",
       "Utah Jazz                 0.380    0.611  0.515777  [34, 10]   0.915388\n",
       "Washington Wizards        0.368    0.347  0.507486   [15, 9]   0.427352"
      ]
     },
     "execution_count": 23,
     "metadata": {},
     "output_type": "execute_result"
    }
   ],
   "source": [
    "df = pd.DataFrame.from_dict(team_info, orient='index')\n",
    "df"
   ]
  },
  {
   "cell_type": "code",
   "execution_count": 20,
   "metadata": {
    "ExecuteTime": {
     "end_time": "2021-02-07T08:30:00.732072Z",
     "start_time": "2021-02-07T08:30:00.389529Z"
    }
   },
   "outputs": [
    {
     "data": {
      "image/png": "[encoded data removed]",
      "text/plain": [
       "<Figure size 432x288 with 1 Axes>"
      ]
     },
     "metadata": {
      "needs_background": "light"
     },
     "output_type": "display_data"
    }
   ],
   "source": [
    "y = []\n",
    "for key in team_info.keys():\n",
    "    y.append(team_info[key]['posterior'])\n",
    "x = list(team_info.keys())\n",
    "y, x = zip(*sorted(zip(y, x)))\n",
    "plt.bar(x, y)\n",
    "plt.xticks(rotation=90)\n",
    "plt.show()"
   ]
  },
  {
   "cell_type": "code",
   "execution_count": 21,
   "metadata": {
    "ExecuteTime": {
     "end_time": "2021-02-07T08:30:01.233103Z",
     "start_time": "2021-02-07T08:30:00.927105Z"
    }
   },
   "outputs": [
    {
     "data": {
      "image/png": "[encoded data removed]",
      "text/plain": [
       "<Figure size 432x288 with 1 Axes>"
      ]
     },
     "metadata": {
      "needs_background": "light"
     },
     "output_type": "display_data"
    }
   ],
   "source": [
    "y = []\n",
    "for key in team_info.keys():\n",
    "    y.append(team_info[key]['win_pct'])\n",
    "x = list(team_info.keys())\n",
    "y, x = zip(*sorted(zip(y, x)))\n",
    "plt.bar(x, y)\n",
    "plt.xticks(rotation=90)\n",
    "plt.show()"
   ]
  },
  {
   "cell_type": "code",
   "execution_count": 22,
   "metadata": {
    "ExecuteTime": {
     "end_time": "2021-02-07T08:30:01.486971Z",
     "start_time": "2021-02-07T08:30:01.482521Z"
    }
   },
   "outputs": [],
   "source": [
    "# A = team X wins the game\n",
    "# B = team X made more 3s in the first half, relative to team Y\n",
    "\n",
    "# P(B|A) = of all the games that team X won, what is the probability that they made more 3s in the first half\n",
    "# P(B) = call it 50%?\n",
    "# P(A) = team X win percentage\n",
    "\n",
    "# do this for multiple games\n",
    "# average all P(A|B) at the end\n"
   ]
  },
  {
   "cell_type": "code",
   "execution_count": null,
   "metadata": {},
   "outputs": [],
   "source": []
  }
 ],
 "metadata": {
  "kernelspec": {
   "display_name": "Python 3",
   "language": "python",
   "name": "python3"
  },
  "toc": {
   "base_numbering": 1,
   "nav_menu": {},
   "number_sections": false,
   "sideBar": true,
   "skip_h1_title": false,
   "title_cell": "Table of Contents",
   "title_sidebar": "Contents",
   "toc_cell": false,
   "toc_position": {},
   "toc_section_display": true,
   "toc_window_display": false
  },
  "varInspector": {
   "cols": {
    "lenName": 16,
    "lenType": 16,
    "lenVar": 40
   },
   "kernels_config": {
    "python": {
     "delete_cmd_postfix": "",
     "delete_cmd_prefix": "del ",
     "library": "var_list.py",
     "varRefreshCmd": "print(var_dic_list())"
    },
    "r": {
     "delete_cmd_postfix": ") ",
     "delete_cmd_prefix": "rm(",
     "library": "var_list.r",
     "varRefreshCmd": "cat(var_dic_list()) "
    }
   },
   "types_to_exclude": [
    "module",
    "function",
    "builtin_function_or_method",
    "instance",
    "_Feature"
   ],
   "window_display": false
  }
 },
 "nbformat": 4,
 "nbformat_minor": 4
}
