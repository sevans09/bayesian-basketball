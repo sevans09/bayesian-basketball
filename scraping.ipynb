{
 "cells": [
  {
   "cell_type": "code",
   "execution_count": 47,
   "metadata": {
    "ExecuteTime": {
     "end_time": "2021-02-08T04:37:45.357464Z",
     "start_time": "2021-02-08T04:37:45.333013Z"
    }
   },
   "outputs": [],
   "source": [
    "from lxml import html\n",
    "import requests, re, math\n",
    "from bs4 import BeautifulSoup\n",
    "import pandas as pd\n",
    "import numpy as np\n",
    "import os\n",
    "import glob\n",
    "import matplotlib.pyplot as plt\n",
    "plt.style.use('ggplot')"
   ]
  },
  {
   "cell_type": "code",
   "execution_count": 2,
   "metadata": {
    "ExecuteTime": {
     "end_time": "2021-02-07T17:47:07.309101Z",
     "start_time": "2021-02-07T17:47:07.300880Z"
    }
   },
   "outputs": [],
   "source": [
    "def parse_files_for_teams(fpath_3, fpath_w):\n",
    "    d = dict()\n",
    "    with open(fpath_3, \"r\") as file_3, open(fpath_w, \"r\") as file_w:\n",
    "        pcts = [s.strip(\"\\n\") for s in list(file_3.readlines())]\n",
    "        wins = [s.strip(\"\\n\") for s in list(file_w.readlines())]\n",
    "        for i in range(len(pcts)):\n",
    "            p = pcts[i]\n",
    "            idx = p.find(\".\")\n",
    "            team = p[:idx-1]\n",
    "            three = float(p[idx:])\n",
    "            w = wins[i]\n",
    "            idx = w.find(\".\")\n",
    "            team = w[:idx-1]\n",
    "            win = float(w[idx:])\n",
    "            d[team] = {'3pt_pct': three, 'win_pct': win}\n",
    "        return d\n",
    "        \n",
    "team_info = parse_files_for_teams(\"teams_3pts.txt\", \"teams_win_pcts.txt\")"
   ]
  },
  {
   "cell_type": "code",
   "execution_count": 3,
   "metadata": {
    "ExecuteTime": {
     "end_time": "2021-02-07T17:47:08.467094Z",
     "start_time": "2021-02-07T17:47:08.460495Z"
    }
   },
   "outputs": [],
   "source": [
    "def get_three_rate(D):\n",
    "    for key1 in D.keys():\n",
    "        s = []\n",
    "        for key2 in D.keys():\n",
    "            if not key1 == key2:\n",
    "                s.append(D[key1]['3pt_pct'] / (D[key1]['3pt_pct'] + D[key2]['3pt_pct']))\n",
    "        team_info[key1]['marginal'] = np.mean(s)\n",
    "    return team_info\n",
    "        \n",
    "team_info = get_three_rate(team_info)"
   ]
  },
  {
   "cell_type": "code",
   "execution_count": 4,
   "metadata": {
    "ExecuteTime": {
     "end_time": "2021-02-07T17:47:09.192502Z",
     "start_time": "2021-02-07T17:47:09.180695Z"
    }
   },
   "outputs": [],
   "source": [
    "def get_scores_and_pbp(team, page):\n",
    "    result = requests.get(page)\n",
    "    tree = html.fromstring(result.content)\n",
    "    tree = html.tostring(tree)\n",
    "    soup = BeautifulSoup(tree, 'lxml')\n",
    "    table = soup.find_all('table')[0]\n",
    "    df = pd.read_html(table.prettify())[0]\n",
    "    score = df.iloc[len(df)-2, 3]\n",
    "    a_score, b_score = score.split('-')\n",
    "    a_score = int(a_score)\n",
    "    b_score = int(b_score)\n",
    "    df = df.iloc[:, [1, 5]]\n",
    "    cols = df.columns\n",
    "    end = df.index[df[cols[0]] == \"3rd Q\"].tolist()[0]\n",
    "    df = df.iloc[:end, :]\n",
    "    df = df[~df[cols[0]].isin(['1st Q', '2nd Q', '3rd Q', '4th Q'])]\n",
    "    df = df.iloc[1:, ]\n",
    "    t = soup.title.string\n",
    "    visitor = t[:(t.find(\" at \"))].strip()\n",
    "    home = t[(t.find(\" at \")+4):(t.find(\"Play\")-1)].strip()\n",
    "    df.columns = [visitor, home]\n",
    "    won = True if (team == home and b_score > a_score) or (team == visitor and a_score > b_score) else False\n",
    "    return won, df"
   ]
  },
  {
   "cell_type": "code",
   "execution_count": 5,
   "metadata": {
    "ExecuteTime": {
     "end_time": "2021-02-07T17:47:09.885081Z",
     "start_time": "2021-02-07T17:47:09.879396Z"
    }
   },
   "outputs": [],
   "source": [
    "def get_merged_plays(df):\n",
    "    merged_plays = []\n",
    "    for index, row in df.iterrows():\n",
    "        for col in df.columns:\n",
    "            if not pd.isnull(row[col]):\n",
    "                merged_plays.append((col, row[col]))\n",
    "    return merged_plays"
   ]
  },
  {
   "cell_type": "code",
   "execution_count": 6,
   "metadata": {
    "ExecuteTime": {
     "end_time": "2021-02-07T17:47:10.471064Z",
     "start_time": "2021-02-07T17:47:10.465916Z"
    }
   },
   "outputs": [],
   "source": [
    "def get_threes(cols, plays):\n",
    "    threes = {cols[0]: 0, cols[1]: 0}\n",
    "    for idx, event in enumerate(plays):\n",
    "        if re.match(r'^(?=.*?\\bmakes 3-pt\\b).*$', event[1]):\n",
    "            threes[event[0]] += 1\n",
    "    return threes"
   ]
  },
  {
   "cell_type": "code",
   "execution_count": 7,
   "metadata": {
    "ExecuteTime": {
     "end_time": "2021-02-07T17:47:10.962795Z",
     "start_time": "2021-02-07T17:47:10.957763Z"
    }
   },
   "outputs": [],
   "source": [
    "def get_key(boool):\n",
    "    if boool:\n",
    "        return \"won\"\n",
    "    else:\n",
    "        return \"lost\""
   ]
  },
  {
   "cell_type": "code",
   "execution_count": 8,
   "metadata": {
    "ExecuteTime": {
     "end_time": "2021-02-07T18:05:42.913222Z",
     "start_time": "2021-02-07T17:47:11.585373Z"
    }
   },
   "outputs": [
    {
     "name": "stdout",
     "output_type": "stream",
     "text": [
      "Sacramento Kings\n",
      "Utah Jazz\n",
      "aight bet\n",
      "\n",
      "Orlando Magic\n",
      "aight bet\n",
      "\n",
      "Charlotte Hornets\n",
      "Denver Nuggets\n",
      "Los Angeles Lakers\n",
      "Phoenix Suns\n",
      "Atlanta Hawks\n",
      "Detroit Pistons\n",
      "Golden State Warriors\n",
      "aight bet\n",
      "\n",
      "San Antonio Spurs\n",
      "aight bet\n",
      "\n",
      "Dallas Mavericks\n",
      "aight bet\n",
      "\n",
      "Cleveland Cavaliers\n",
      "aight bet\n",
      "\n",
      "Portland Trail Blazers\n",
      "aight bet\n",
      "\n",
      "New York Knicks\n",
      "Houston Rockets\n",
      "Memphis Grizzlies\n",
      "New Orleans Pelicans\n",
      "Indiana Pacers\n",
      "Boston Celtics\n",
      "Oklahoma City Thunder\n",
      "Chicago Bulls\n",
      "aight bet\n",
      "\n",
      "Toronto Raptors\n",
      "Milwaukee Bucks\n",
      "Miami Heat\n",
      "Washington Wizards\n",
      "Los Angeles Clippers\n",
      "Brooklyn Nets\n",
      "Minnesota Timberwolves\n",
      "Philadelphia 76ers\n"
     ]
    }
   ],
   "source": [
    "def get_three_tally_by_team(team_info):\n",
    "    folder_path = './box_links'\n",
    "    for filename in glob.glob(os.path.join(folder_path, '*box_links.txt')):\n",
    "        with open(filename, 'r') as f:\n",
    "            tally = {'won': [0, 0], 'lost': [0, 0]}\n",
    "            pages = [s.strip() for s in list(f.readlines())]\n",
    "            team = pages[0]\n",
    "            print(team)\n",
    "            pages = pages[1:]\n",
    "            for idx, page in enumerate(pages):\n",
    "                if page.find(\"2021\") != -1:\n",
    "                    continue\n",
    "                str_idx = page.find(\"boxscores/\") + 10\n",
    "                page = page[:str_idx] + \"pbp/\" + page[str_idx:]\n",
    "                try:\n",
    "                    won, df = get_scores_and_pbp(team, page)\n",
    "                    plays = get_merged_plays(df)\n",
    "                    threes = get_threes(df.columns, plays)\n",
    "                    try:\n",
    "                        for t in df.columns:\n",
    "                            if t != team:\n",
    "                                opponent = t\n",
    "                        if (threes[team] >= threes[opponent]):\n",
    "                            tally[get_key(won)][0] += 1\n",
    "                        else:\n",
    "                            tally[get_key(won)][1] += 1\n",
    "                    except:\n",
    "                        print(\"uh oh\", team, opponent, page)\n",
    "                except:\n",
    "                    print(\"aight bet\")\n",
    "                    print()\n",
    "            team_info[team]['tally'] = tally\n",
    "    return team_info\n",
    "\n",
    "team_info = get_three_tally_by_team(team_info)"
   ]
  },
  {
   "cell_type": "code",
   "execution_count": 20,
   "metadata": {
    "ExecuteTime": {
     "end_time": "2021-02-07T18:11:12.685509Z",
     "start_time": "2021-02-07T18:11:12.676277Z"
    }
   },
   "outputs": [
    {
     "name": "stdout",
     "output_type": "stream",
     "text": [
      "{'Atlanta Hawks': {'3pt_pct': 0.333, 'win_pct': 0.299, 'marginal': 0.5374627659574469, 'tally': {'won': [15, 5], 'lost': [21, 26]}, 'posterior': 0.41723820551646323}, 'Philadelphia 76ers': {'3pt_pct': 0.368, 'win_pct': 0.589, 'marginal': 0.6011231190150479, 'tally': {'won': [28, 15], 'lost': [18, 16]}, 'posterior': 0.6380304992251167}, 'Brooklyn Nets': {'3pt_pct': 0.343, 'win_pct': 0.486, 'marginal': 0.6910271777003485, 'tally': {'won': [29, 6], 'lost': [23, 18]}, 'posterior': 0.5827349882616798}, 'Boston Celtics': {'3pt_pct': 0.364, 'win_pct': 0.667, 'marginal': 0.6433709677419355, 'tally': {'won': [41, 17], 'lost': [16, 15]}, 'posterior': 0.7328586828448946}, 'New York Knicks': {'3pt_pct': 0.337, 'win_pct': 0.318, 'marginal': 0.3181650793650793, 'tally': {'won': [8, 13], 'lost': [13, 32]}, 'posterior': 0.3807547245115843}, 'Toronto Raptors': {'3pt_pct': 0.374, 'win_pct': 0.736, 'marginal': 0.5310608695652175, 'tally': {'won': [33, 27], 'lost': [11, 12]}, 'posterior': 0.7622478386167146}, 'Utah Jazz': {'3pt_pct': 0.38, 'win_pct': 0.611, 'marginal': 0.7201725543478261, 'tally': {'won': [35, 11], 'lost': [21, 11]}, 'posterior': 0.6455276607546123}, 'Denver Nuggets': {'3pt_pct': 0.359, 'win_pct': 0.63, 'marginal': 0.4892727272727273, 'tally': {'won': [27, 28], 'lost': [18, 19]}, 'posterior': 0.6321070234113711}, 'Portland Trail Blazers': {'3pt_pct': 0.377, 'win_pct': 0.473, 'marginal': 0.46936046511627905, 'tally': {'won': [18, 18], 'lost': [19, 24]}, 'posterior': 0.5038771212684257}, 'Oklahoma City Thunder': {'3pt_pct': 0.355, 'win_pct': 0.611, 'marginal': 0.45534374999999994, 'tally': {'won': [21, 26], 'lost': [15, 17]}, 'posterior': 0.5995470455013383}, 'Minnesota Timberwolves': {'3pt_pct': 0.336, 'win_pct': 0.297, 'marginal': 0.6406514619883041, 'tally': {'won': [15, 4], 'lost': [26, 19]}, 'posterior': 0.3659925843028934}, 'Milwaukee Bucks': {'3pt_pct': 0.355, 'win_pct': 0.767, 'marginal': 0.5982690014903129, 'tally': {'won': [40, 21], 'lost': [9, 13]}, 'posterior': 0.8406767163587946}, 'Indiana Pacers': {'3pt_pct': 0.363, 'win_pct': 0.616, 'marginal': 0.5683555555555555, 'tally': {'won': [31, 14], 'lost': [12, 20]}, 'posterior': 0.7466374726305912}, 'Cleveland Cavaliers': {'3pt_pct': 0.351, 'win_pct': 0.292, 'marginal': 0.43724912280701755, 'tally': {'won': [9, 10], 'lost': [19, 26]}, 'posterior': 0.3163317712011298}, 'Chicago Bulls': {'3pt_pct': 0.348, 'win_pct': 0.338, 'marginal': 0.5772164502164502, 'tally': {'won': [15, 7], 'lost': [22, 20]}, 'posterior': 0.39925152058318397}, 'Detroit Pistons': {'3pt_pct': 0.367, 'win_pct': 0.303, 'marginal': 0.6363565217391305, 'tally': {'won': [16, 4], 'lost': [26, 20]}, 'posterior': 0.3809185444309315}, 'Los Angeles Lakers': {'3pt_pct': 0.349, 'win_pct': 0.732, 'marginal': 0.4983921568627451, 'tally': {'won': [38, 30], 'lost': [8, 16]}, 'posterior': 0.820756943898025}, 'Los Angeles Clippers': {'3pt_pct': 0.371, 'win_pct': 0.681, 'marginal': 0.605107142857143, 'tally': {'won': [38, 18], 'lost': [13, 16]}, 'posterior': 0.7636782151921148}, 'Phoenix Suns': {'3pt_pct': 0.358, 'win_pct': 0.466, 'marginal': 0.4795158371040725, 'tally': {'won': [21, 13], 'lost': [14, 25]}, 'posterior': 0.6002377964198428}, 'Golden State Warriors': {'3pt_pct': 0.334, 'win_pct': 0.231, 'marginal': 0.32722040816326536, 'tally': {'won': [8, 7], 'lost': [13, 36]}, 'posterior': 0.37650463396075784}, 'Sacramento Kings': {'3pt_pct': 0.364, 'win_pct': 0.431, 'marginal': 0.597360346184107, 'tally': {'won': [24, 7], 'lost': [19, 22]}, 'posterior': 0.5585864905267732}, 'Charlotte Hornets': {'3pt_pct': 0.352, 'win_pct': 0.354, 'marginal': 0.5230766045548654, 'tally': {'won': [12, 11], 'lost': [22, 20]}, 'posterior': 0.353094844169312}, 'Orlando Magic': {'3pt_pct': 0.343, 'win_pct': 0.452, 'marginal': 0.4495454545454546, 'tally': {'won': [21, 12], 'lost': [13, 31]}, 'posterior': 0.6398382204246713}, 'Miami Heat': {'3pt_pct': 0.379, 'win_pct': 0.603, 'marginal': 0.560485632183908, 'tally': {'won': [38, 20], 'lost': [15, 21]}, 'posterior': 0.7048690329096791}, 'Washington Wizards': {'3pt_pct': 0.368, 'win_pct': 0.347, 'marginal': 0.45827148936170214, 'tally': {'won': [16, 9], 'lost': [17, 30]}, 'posterior': 0.48460357049338026}, 'San Antonio Spurs': {'3pt_pct': 0.376, 'win_pct': 0.451, 'marginal': 0.4703980263157894, 'tally': {'won': [18, 14], 'lost': [15, 23]}, 'posterior': 0.5393039209516018}, 'Memphis Grizzlies': {'3pt_pct': 0.347, 'win_pct': 0.466, 'marginal': 0.4336058823529412, 'tally': {'won': [18, 16], 'lost': [14, 26]}, 'posterior': 0.5689634121525375}, 'Houston Rockets': {'3pt_pct': 0.345, 'win_pct': 0.611, 'marginal': 0.6988326530612244, 'tally': {'won': [40, 9], 'lost': [18, 17]}, 'posterior': 0.7137266812293388}, 'New Orleans Pelicans': {'3pt_pct': 0.37, 'win_pct': 0.417, 'marginal': 0.555695238095238, 'tally': {'won': [24, 6], 'lost': [16, 26]}, 'posterior': 0.6003290601220266}, 'Dallas Mavericks': {'3pt_pct': 0.367, 'win_pct': 0.573, 'marginal': 0.8032525252525253, 'tally': {'won': [38, 6], 'lost': [26, 10]}, 'posterior': 0.6160747969115464}}\n"
     ]
    }
   ],
   "source": [
    "def bayes(team_info):\n",
    "    # EXAMPLE: print(((tally[0] / sum(tally)) * jazz_win_rate)/0.54)\n",
    "    for key in team_info.keys():\n",
    "        try:\n",
    "            likelihood = (team_info[key]['tally']['won'][0] / sum(team_info[key]['tally']['won']))\n",
    "            prior = team_info[key]['win_pct']\n",
    "            marginal = (likelihood * prior) + ((team_info[key]['tally']['lost'][0] / sum(team_info[key]['tally']['lost'])) * (1 - prior))\n",
    "            posterior = (likelihood * prior) / marginal\n",
    "            team_info[key]['marginal'] = marginal\n",
    "            team_info[key]['posterior'] = posterior\n",
    "        except:\n",
    "            print(key)\n",
    "    return team_info\n",
    "\n",
    "team_info = bayes(team_info)\n",
    "print(team_info)"
   ]
  },
  {
   "cell_type": "code",
   "execution_count": 21,
   "metadata": {
    "ExecuteTime": {
     "end_time": "2021-02-07T18:11:14.185676Z",
     "start_time": "2021-02-07T18:11:14.144299Z"
    }
   },
   "outputs": [
    {
     "data": {
      "text/html": [
       "<div>\n",
       "<style scoped>\n",
       "    .dataframe tbody tr th:only-of-type {\n",
       "        vertical-align: middle;\n",
       "    }\n",
       "\n",
       "    .dataframe tbody tr th {\n",
       "        vertical-align: top;\n",
       "    }\n",
       "\n",
       "    .dataframe thead th {\n",
       "        text-align: right;\n",
       "    }\n",
       "</style>\n",
       "<table border=\"1\" class=\"dataframe\">\n",
       "  <thead>\n",
       "    <tr style=\"text-align: right;\">\n",
       "      <th></th>\n",
       "      <th>3pt_pct</th>\n",
       "      <th>win_pct</th>\n",
       "      <th>marginal</th>\n",
       "      <th>tally</th>\n",
       "      <th>posterior</th>\n",
       "    </tr>\n",
       "  </thead>\n",
       "  <tbody>\n",
       "    <tr>\n",
       "      <th>Atlanta Hawks</th>\n",
       "      <td>0.333</td>\n",
       "      <td>0.299</td>\n",
       "      <td>0.537463</td>\n",
       "      <td>{'won': [15, 5], 'lost': [21, 26]}</td>\n",
       "      <td>0.417238</td>\n",
       "    </tr>\n",
       "    <tr>\n",
       "      <th>Boston Celtics</th>\n",
       "      <td>0.364</td>\n",
       "      <td>0.667</td>\n",
       "      <td>0.643371</td>\n",
       "      <td>{'won': [41, 17], 'lost': [16, 15]}</td>\n",
       "      <td>0.732859</td>\n",
       "    </tr>\n",
       "    <tr>\n",
       "      <th>Brooklyn Nets</th>\n",
       "      <td>0.343</td>\n",
       "      <td>0.486</td>\n",
       "      <td>0.691027</td>\n",
       "      <td>{'won': [29, 6], 'lost': [23, 18]}</td>\n",
       "      <td>0.582735</td>\n",
       "    </tr>\n",
       "    <tr>\n",
       "      <th>Charlotte Hornets</th>\n",
       "      <td>0.352</td>\n",
       "      <td>0.354</td>\n",
       "      <td>0.523077</td>\n",
       "      <td>{'won': [12, 11], 'lost': [22, 20]}</td>\n",
       "      <td>0.353095</td>\n",
       "    </tr>\n",
       "    <tr>\n",
       "      <th>Chicago Bulls</th>\n",
       "      <td>0.348</td>\n",
       "      <td>0.338</td>\n",
       "      <td>0.577216</td>\n",
       "      <td>{'won': [15, 7], 'lost': [22, 20]}</td>\n",
       "      <td>0.399252</td>\n",
       "    </tr>\n",
       "    <tr>\n",
       "      <th>Cleveland Cavaliers</th>\n",
       "      <td>0.351</td>\n",
       "      <td>0.292</td>\n",
       "      <td>0.437249</td>\n",
       "      <td>{'won': [9, 10], 'lost': [19, 26]}</td>\n",
       "      <td>0.316332</td>\n",
       "    </tr>\n",
       "    <tr>\n",
       "      <th>Dallas Mavericks</th>\n",
       "      <td>0.367</td>\n",
       "      <td>0.573</td>\n",
       "      <td>0.803253</td>\n",
       "      <td>{'won': [38, 6], 'lost': [26, 10]}</td>\n",
       "      <td>0.616075</td>\n",
       "    </tr>\n",
       "    <tr>\n",
       "      <th>Denver Nuggets</th>\n",
       "      <td>0.359</td>\n",
       "      <td>0.630</td>\n",
       "      <td>0.489273</td>\n",
       "      <td>{'won': [27, 28], 'lost': [18, 19]}</td>\n",
       "      <td>0.632107</td>\n",
       "    </tr>\n",
       "    <tr>\n",
       "      <th>Detroit Pistons</th>\n",
       "      <td>0.367</td>\n",
       "      <td>0.303</td>\n",
       "      <td>0.636357</td>\n",
       "      <td>{'won': [16, 4], 'lost': [26, 20]}</td>\n",
       "      <td>0.380919</td>\n",
       "    </tr>\n",
       "    <tr>\n",
       "      <th>Golden State Warriors</th>\n",
       "      <td>0.334</td>\n",
       "      <td>0.231</td>\n",
       "      <td>0.327220</td>\n",
       "      <td>{'won': [8, 7], 'lost': [13, 36]}</td>\n",
       "      <td>0.376505</td>\n",
       "    </tr>\n",
       "    <tr>\n",
       "      <th>Houston Rockets</th>\n",
       "      <td>0.345</td>\n",
       "      <td>0.611</td>\n",
       "      <td>0.698833</td>\n",
       "      <td>{'won': [40, 9], 'lost': [18, 17]}</td>\n",
       "      <td>0.713727</td>\n",
       "    </tr>\n",
       "    <tr>\n",
       "      <th>Indiana Pacers</th>\n",
       "      <td>0.363</td>\n",
       "      <td>0.616</td>\n",
       "      <td>0.568356</td>\n",
       "      <td>{'won': [31, 14], 'lost': [12, 20]}</td>\n",
       "      <td>0.746637</td>\n",
       "    </tr>\n",
       "    <tr>\n",
       "      <th>Los Angeles Clippers</th>\n",
       "      <td>0.371</td>\n",
       "      <td>0.681</td>\n",
       "      <td>0.605107</td>\n",
       "      <td>{'won': [38, 18], 'lost': [13, 16]}</td>\n",
       "      <td>0.763678</td>\n",
       "    </tr>\n",
       "    <tr>\n",
       "      <th>Los Angeles Lakers</th>\n",
       "      <td>0.349</td>\n",
       "      <td>0.732</td>\n",
       "      <td>0.498392</td>\n",
       "      <td>{'won': [38, 30], 'lost': [8, 16]}</td>\n",
       "      <td>0.820757</td>\n",
       "    </tr>\n",
       "    <tr>\n",
       "      <th>Memphis Grizzlies</th>\n",
       "      <td>0.347</td>\n",
       "      <td>0.466</td>\n",
       "      <td>0.433606</td>\n",
       "      <td>{'won': [18, 16], 'lost': [14, 26]}</td>\n",
       "      <td>0.568963</td>\n",
       "    </tr>\n",
       "    <tr>\n",
       "      <th>Miami Heat</th>\n",
       "      <td>0.379</td>\n",
       "      <td>0.603</td>\n",
       "      <td>0.560486</td>\n",
       "      <td>{'won': [38, 20], 'lost': [15, 21]}</td>\n",
       "      <td>0.704869</td>\n",
       "    </tr>\n",
       "    <tr>\n",
       "      <th>Milwaukee Bucks</th>\n",
       "      <td>0.355</td>\n",
       "      <td>0.767</td>\n",
       "      <td>0.598269</td>\n",
       "      <td>{'won': [40, 21], 'lost': [9, 13]}</td>\n",
       "      <td>0.840677</td>\n",
       "    </tr>\n",
       "    <tr>\n",
       "      <th>Minnesota Timberwolves</th>\n",
       "      <td>0.336</td>\n",
       "      <td>0.297</td>\n",
       "      <td>0.640651</td>\n",
       "      <td>{'won': [15, 4], 'lost': [26, 19]}</td>\n",
       "      <td>0.365993</td>\n",
       "    </tr>\n",
       "    <tr>\n",
       "      <th>New Orleans Pelicans</th>\n",
       "      <td>0.370</td>\n",
       "      <td>0.417</td>\n",
       "      <td>0.555695</td>\n",
       "      <td>{'won': [24, 6], 'lost': [16, 26]}</td>\n",
       "      <td>0.600329</td>\n",
       "    </tr>\n",
       "    <tr>\n",
       "      <th>New York Knicks</th>\n",
       "      <td>0.337</td>\n",
       "      <td>0.318</td>\n",
       "      <td>0.318165</td>\n",
       "      <td>{'won': [8, 13], 'lost': [13, 32]}</td>\n",
       "      <td>0.380755</td>\n",
       "    </tr>\n",
       "    <tr>\n",
       "      <th>Oklahoma City Thunder</th>\n",
       "      <td>0.355</td>\n",
       "      <td>0.611</td>\n",
       "      <td>0.455344</td>\n",
       "      <td>{'won': [21, 26], 'lost': [15, 17]}</td>\n",
       "      <td>0.599547</td>\n",
       "    </tr>\n",
       "    <tr>\n",
       "      <th>Orlando Magic</th>\n",
       "      <td>0.343</td>\n",
       "      <td>0.452</td>\n",
       "      <td>0.449545</td>\n",
       "      <td>{'won': [21, 12], 'lost': [13, 31]}</td>\n",
       "      <td>0.639838</td>\n",
       "    </tr>\n",
       "    <tr>\n",
       "      <th>Philadelphia 76ers</th>\n",
       "      <td>0.368</td>\n",
       "      <td>0.589</td>\n",
       "      <td>0.601123</td>\n",
       "      <td>{'won': [28, 15], 'lost': [18, 16]}</td>\n",
       "      <td>0.638030</td>\n",
       "    </tr>\n",
       "    <tr>\n",
       "      <th>Phoenix Suns</th>\n",
       "      <td>0.358</td>\n",
       "      <td>0.466</td>\n",
       "      <td>0.479516</td>\n",
       "      <td>{'won': [21, 13], 'lost': [14, 25]}</td>\n",
       "      <td>0.600238</td>\n",
       "    </tr>\n",
       "    <tr>\n",
       "      <th>Portland Trail Blazers</th>\n",
       "      <td>0.377</td>\n",
       "      <td>0.473</td>\n",
       "      <td>0.469360</td>\n",
       "      <td>{'won': [18, 18], 'lost': [19, 24]}</td>\n",
       "      <td>0.503877</td>\n",
       "    </tr>\n",
       "    <tr>\n",
       "      <th>Sacramento Kings</th>\n",
       "      <td>0.364</td>\n",
       "      <td>0.431</td>\n",
       "      <td>0.597360</td>\n",
       "      <td>{'won': [24, 7], 'lost': [19, 22]}</td>\n",
       "      <td>0.558586</td>\n",
       "    </tr>\n",
       "    <tr>\n",
       "      <th>San Antonio Spurs</th>\n",
       "      <td>0.376</td>\n",
       "      <td>0.451</td>\n",
       "      <td>0.470398</td>\n",
       "      <td>{'won': [18, 14], 'lost': [15, 23]}</td>\n",
       "      <td>0.539304</td>\n",
       "    </tr>\n",
       "    <tr>\n",
       "      <th>Toronto Raptors</th>\n",
       "      <td>0.374</td>\n",
       "      <td>0.736</td>\n",
       "      <td>0.531061</td>\n",
       "      <td>{'won': [33, 27], 'lost': [11, 12]}</td>\n",
       "      <td>0.762248</td>\n",
       "    </tr>\n",
       "    <tr>\n",
       "      <th>Utah Jazz</th>\n",
       "      <td>0.380</td>\n",
       "      <td>0.611</td>\n",
       "      <td>0.720173</td>\n",
       "      <td>{'won': [35, 11], 'lost': [21, 11]}</td>\n",
       "      <td>0.645528</td>\n",
       "    </tr>\n",
       "    <tr>\n",
       "      <th>Washington Wizards</th>\n",
       "      <td>0.368</td>\n",
       "      <td>0.347</td>\n",
       "      <td>0.458271</td>\n",
       "      <td>{'won': [16, 9], 'lost': [17, 30]}</td>\n",
       "      <td>0.484604</td>\n",
       "    </tr>\n",
       "  </tbody>\n",
       "</table>\n",
       "</div>"
      ],
      "text/plain": [
       "                        3pt_pct  win_pct  marginal  \\\n",
       "Atlanta Hawks             0.333    0.299  0.537463   \n",
       "Boston Celtics            0.364    0.667  0.643371   \n",
       "Brooklyn Nets             0.343    0.486  0.691027   \n",
       "Charlotte Hornets         0.352    0.354  0.523077   \n",
       "Chicago Bulls             0.348    0.338  0.577216   \n",
       "Cleveland Cavaliers       0.351    0.292  0.437249   \n",
       "Dallas Mavericks          0.367    0.573  0.803253   \n",
       "Denver Nuggets            0.359    0.630  0.489273   \n",
       "Detroit Pistons           0.367    0.303  0.636357   \n",
       "Golden State Warriors     0.334    0.231  0.327220   \n",
       "Houston Rockets           0.345    0.611  0.698833   \n",
       "Indiana Pacers            0.363    0.616  0.568356   \n",
       "Los Angeles Clippers      0.371    0.681  0.605107   \n",
       "Los Angeles Lakers        0.349    0.732  0.498392   \n",
       "Memphis Grizzlies         0.347    0.466  0.433606   \n",
       "Miami Heat                0.379    0.603  0.560486   \n",
       "Milwaukee Bucks           0.355    0.767  0.598269   \n",
       "Minnesota Timberwolves    0.336    0.297  0.640651   \n",
       "New Orleans Pelicans      0.370    0.417  0.555695   \n",
       "New York Knicks           0.337    0.318  0.318165   \n",
       "Oklahoma City Thunder     0.355    0.611  0.455344   \n",
       "Orlando Magic             0.343    0.452  0.449545   \n",
       "Philadelphia 76ers        0.368    0.589  0.601123   \n",
       "Phoenix Suns              0.358    0.466  0.479516   \n",
       "Portland Trail Blazers    0.377    0.473  0.469360   \n",
       "Sacramento Kings          0.364    0.431  0.597360   \n",
       "San Antonio Spurs         0.376    0.451  0.470398   \n",
       "Toronto Raptors           0.374    0.736  0.531061   \n",
       "Utah Jazz                 0.380    0.611  0.720173   \n",
       "Washington Wizards        0.368    0.347  0.458271   \n",
       "\n",
       "                                                      tally  posterior  \n",
       "Atlanta Hawks            {'won': [15, 5], 'lost': [21, 26]}   0.417238  \n",
       "Boston Celtics          {'won': [41, 17], 'lost': [16, 15]}   0.732859  \n",
       "Brooklyn Nets            {'won': [29, 6], 'lost': [23, 18]}   0.582735  \n",
       "Charlotte Hornets       {'won': [12, 11], 'lost': [22, 20]}   0.353095  \n",
       "Chicago Bulls            {'won': [15, 7], 'lost': [22, 20]}   0.399252  \n",
       "Cleveland Cavaliers      {'won': [9, 10], 'lost': [19, 26]}   0.316332  \n",
       "Dallas Mavericks         {'won': [38, 6], 'lost': [26, 10]}   0.616075  \n",
       "Denver Nuggets          {'won': [27, 28], 'lost': [18, 19]}   0.632107  \n",
       "Detroit Pistons          {'won': [16, 4], 'lost': [26, 20]}   0.380919  \n",
       "Golden State Warriors     {'won': [8, 7], 'lost': [13, 36]}   0.376505  \n",
       "Houston Rockets          {'won': [40, 9], 'lost': [18, 17]}   0.713727  \n",
       "Indiana Pacers          {'won': [31, 14], 'lost': [12, 20]}   0.746637  \n",
       "Los Angeles Clippers    {'won': [38, 18], 'lost': [13, 16]}   0.763678  \n",
       "Los Angeles Lakers       {'won': [38, 30], 'lost': [8, 16]}   0.820757  \n",
       "Memphis Grizzlies       {'won': [18, 16], 'lost': [14, 26]}   0.568963  \n",
       "Miami Heat              {'won': [38, 20], 'lost': [15, 21]}   0.704869  \n",
       "Milwaukee Bucks          {'won': [40, 21], 'lost': [9, 13]}   0.840677  \n",
       "Minnesota Timberwolves   {'won': [15, 4], 'lost': [26, 19]}   0.365993  \n",
       "New Orleans Pelicans     {'won': [24, 6], 'lost': [16, 26]}   0.600329  \n",
       "New York Knicks          {'won': [8, 13], 'lost': [13, 32]}   0.380755  \n",
       "Oklahoma City Thunder   {'won': [21, 26], 'lost': [15, 17]}   0.599547  \n",
       "Orlando Magic           {'won': [21, 12], 'lost': [13, 31]}   0.639838  \n",
       "Philadelphia 76ers      {'won': [28, 15], 'lost': [18, 16]}   0.638030  \n",
       "Phoenix Suns            {'won': [21, 13], 'lost': [14, 25]}   0.600238  \n",
       "Portland Trail Blazers  {'won': [18, 18], 'lost': [19, 24]}   0.503877  \n",
       "Sacramento Kings         {'won': [24, 7], 'lost': [19, 22]}   0.558586  \n",
       "San Antonio Spurs       {'won': [18, 14], 'lost': [15, 23]}   0.539304  \n",
       "Toronto Raptors         {'won': [33, 27], 'lost': [11, 12]}   0.762248  \n",
       "Utah Jazz               {'won': [35, 11], 'lost': [21, 11]}   0.645528  \n",
       "Washington Wizards       {'won': [16, 9], 'lost': [17, 30]}   0.484604  "
      ]
     },
     "execution_count": 21,
     "metadata": {},
     "output_type": "execute_result"
    }
   ],
   "source": [
    "df = pd.DataFrame.from_dict(team_info, orient='index')\n",
    "df"
   ]
  },
  {
   "cell_type": "code",
   "execution_count": 50,
   "metadata": {
    "ExecuteTime": {
     "end_time": "2021-02-08T04:39:15.769220Z",
     "start_time": "2021-02-08T04:39:14.958315Z"
    }
   },
   "outputs": [
    {
     "data": {
      "image/png": "[encoded data removed]",
      "text/plain": [
       "<Figure size 576x396 with 1 Axes>"
      ]
     },
     "metadata": {},
     "output_type": "display_data"
    },
    {
     "data": {
      "text/plain": [
       "<Figure size 576x396 with 0 Axes>"
      ]
     },
     "metadata": {},
     "output_type": "display_data"
    }
   ],
   "source": [
    "y = []\n",
    "for key in team_info.keys():\n",
    "    y.append(team_info[key]['posterior'])\n",
    "x = list(team_info.keys())\n",
    "y, x = zip(*sorted(zip(y, x)))\n",
    "fig = plt.figure()\n",
    "plt.bar(x, y, color='#3a7ca5')\n",
    "plt.ylim([0, 1])\n",
    "plt.xticks(rotation=90)\n",
    "plt.ylabel('Posterior Probability')\n",
    "plt.title('Probability of Winning Given More 3s Made in First Half')\n",
    "plt.show()\n",
    "plt.tight_layout()\n",
    "fig.savefig('./posterior_plot_all_teams.png', bbox_inches='tight')"
   ]
  },
  {
   "cell_type": "code",
   "execution_count": 26,
   "metadata": {
    "ExecuteTime": {
     "end_time": "2021-02-07T18:28:06.832711Z",
     "start_time": "2021-02-07T18:28:06.816637Z"
    }
   },
   "outputs": [
    {
     "data": {
      "text/plain": [
       "0.576176667292711"
      ]
     },
     "execution_count": 26,
     "metadata": {},
     "output_type": "execute_result"
    }
   ],
   "source": [
    "np.mean(y)"
   ]
  },
  {
   "cell_type": "code",
   "execution_count": 13,
   "metadata": {
    "ExecuteTime": {
     "end_time": "2021-02-07T18:06:26.508738Z",
     "start_time": "2021-02-07T18:06:26.145283Z"
    }
   },
   "outputs": [
    {
     "data": {
      "image/png": "[encoded data removed]",
      "text/plain": [
       "<Figure size 432x288 with 1 Axes>"
      ]
     },
     "metadata": {
      "needs_background": "light"
     },
     "output_type": "display_data"
    }
   ],
   "source": [
    "y = []\n",
    "for key in team_info.keys():\n",
    "    y.append(team_info[key]['win_pct'])\n",
    "x = list(team_info.keys())\n",
    "y, x = zip(*sorted(zip(y, x)))\n",
    "plt.bar(x, y)\n",
    "plt.xticks(rotation=90)\n",
    "plt.show()"
   ]
  },
  {
   "cell_type": "code",
   "execution_count": null,
   "metadata": {
    "ExecuteTime": {
     "end_time": "2021-02-07T08:30:01.486971Z",
     "start_time": "2021-02-07T08:30:01.482521Z"
    }
   },
   "outputs": [],
   "source": [
    "# A = team X wins the game\n",
    "# B = team X made more 3s in the first half, relative to team Y\n",
    "\n",
    "# P(B|A) = likelihood = of all the games that team X won, what is the probability that they made more 3s in the first half\n",
    "# P(A) = prior = team X win percentage (2019-2020 season)\n",
    "# P(B) = marginal = P(B|A)P(A) + P(B|~A)P(~A)\n",
    "\n",
    "\n",
    "# do this for multiple games\n",
    "# average all P(A|B) at the end\n"
   ]
  },
  {
   "cell_type": "code",
   "execution_count": null,
   "metadata": {},
   "outputs": [],
   "source": []
  }
 ],
 "metadata": {
  "kernelspec": {
   "display_name": "Python 3",
   "language": "python",
   "name": "python3"
  },
  "language_info": {
   "codemirror_mode": {
    "name": "ipython",
    "version": 3
   },
   "file_extension": ".py",
   "mimetype": "text/x-python",
   "name": "python",
   "nbconvert_exporter": "python",
   "pygments_lexer": "ipython3",
   "version": "3.7.4"
  },
  "toc": {
   "base_numbering": 1,
   "nav_menu": {},
   "number_sections": false,
   "sideBar": true,
   "skip_h1_title": false,
   "title_cell": "Table of Contents",
   "title_sidebar": "Contents",
   "toc_cell": false,
   "toc_position": {},
   "toc_section_display": true,
   "toc_window_display": false
  },
  "varInspector": {
   "cols": {
    "lenName": 16,
    "lenType": 16,
    "lenVar": 40
   },
   "kernels_config": {
    "python": {
     "delete_cmd_postfix": "",
     "delete_cmd_prefix": "del ",
     "library": "var_list.py",
     "varRefreshCmd": "print(var_dic_list())"
    },
    "r": {
     "delete_cmd_postfix": ") ",
     "delete_cmd_prefix": "rm(",
     "library": "var_list.r",
     "varRefreshCmd": "cat(var_dic_list()) "
    }
   },
   "types_to_exclude": [
    "module",
    "function",
    "builtin_function_or_method",
    "instance",
    "_Feature"
   ],
   "window_display": false
  }
 },
 "nbformat": 4,
 "nbformat_minor": 4
}
